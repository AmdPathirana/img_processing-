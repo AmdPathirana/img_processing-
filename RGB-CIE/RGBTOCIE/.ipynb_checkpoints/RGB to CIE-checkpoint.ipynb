{
 "cells": [
  {
   "cell_type": "code",
   "execution_count": null,
   "id": "f99d942d-32db-4ea5-b2c4-134b6f20d278",
   "metadata": {},
   "outputs": [],
   "source": [
    "import cv2\n",
    "import matplotlib.pyplot as plt\n",
    "\n",
    "def extract_luminosity(image_path):\n",
    "    # Read the image\n",
    "    original_image = cv2.imread(image_path)\n",
    "\n",
    "    # Convert BGR to RGB\n",
    "    rgb_image = cv2.cvtColor(original_image, cv2.COLOR_BGR2RGB)\n",
    "\n",
    "    # Convert RGB to Lab\n",
    "    lab_image = cv2.cvtColor(rgb_image, cv2.COLOR_RGB2LAB)\n",
    "\n",
    "    # Extract the L* channel\n",
    "    l_channel = lab_image[:, :, 0]\n",
    "\n",
    "    return l_channel\n",
    "\n",
    "# Example usage\n",
    "image_path = \n",
    "luminosity_feature = extract_luminosity(image_path)\n",
    "\n",
    "# Display the luminosity image\n",
    "plt.imshow(luminosity_feature, cmap='gray')\n",
    "plt.title('Luminosity Image (L*)')\n",
    "plt.colorbar()\n",
    "plt.show()\n"
   ]
  }
 ],
 "metadata": {
  "kernelspec": {
   "display_name": "ML_PROJECTS_Kernel",
   "language": "python",
   "name": "ml_projects"
  },
  "language_info": {
   "codemirror_mode": {
    "name": "ipython",
    "version": 3
   },
   "file_extension": ".py",
   "mimetype": "text/x-python",
   "name": "python",
   "nbconvert_exporter": "python",
   "pygments_lexer": "ipython3",
   "version": "3.10.13"
  }
 },
 "nbformat": 4,
 "nbformat_minor": 5
}
